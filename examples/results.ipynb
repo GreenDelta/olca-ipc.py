{
 "cells": [
  {
   "cell_type": "markdown",
   "id": "0fec011c",
   "metadata": {},
   "source": [
    "# The openLCA Result API\n",
    "\n",
    "openLCA 2 provides a harmonized result interface that can be called from\n",
    "different APIs (Java, JSON-RPC, gRPC, Rest). All these APIs call the same\n",
    "backend which is implemented in the openLCA kernel. This kernel is independent\n",
    "from the openLCA user interface and can be integrated as a service into other\n",
    "applications.\n",
    "\n",
    "The idea of the result interface is not to provide some ready-to-use charts and\n",
    "tables but to provide all possible building blocks with which such higher level\n",
    "result views can be created (charts, tables, upstream trees, Sankey diagrams).\n",
    "Thus, the result interface has many methods that often look quite similar but\n",
    "they have their purpose for efficiently creating higher level result views. This\n",
    "notebook tries to explain what these methods do with examples using the [openLCA\n",
    "Python IPC API v2](https://github.com/GreenDelta/olca-ipc.py). The calculation\n",
    "is sometimes explained using [standard LCA matrix algebra](.#) but this does mean\n",
    "that the implementation uses exactly these formulas when calculating results."
   ]
  },
  {
   "cell_type": "markdown",
   "id": "f62cff94",
   "metadata": {},
   "source": [
    "## Setup\n",
    "\n",
    "In order to run the examples in this document, you need to have the olca-ipc.py\n",
    "module installed and an IPC server in openLCA runnig (`Tools > Developer tools >\n",
    "IPC Server`). First, make sure that the `olca-ipc` and `olca-schema` modules are\n",
    "installed. We also use `pandas` and `matplotlib` for visualisations:"
   ]
  },
  {
   "cell_type": "code",
   "execution_count": null,
   "id": "d4f2cfb3",
   "metadata": {
    "scrolled": true
   },
   "outputs": [],
   "source": [
    "!pip list | grep 'olca\\|pandas'"
   ]
  },
  {
   "cell_type": "markdown",
   "id": "d74f52b7",
   "metadata": {},
   "source": [
    "Now, we import the required modules:"
   ]
  },
  {
   "cell_type": "code",
   "execution_count": null,
   "id": "01eb2b87",
   "metadata": {},
   "outputs": [],
   "source": [
    "import olca_ipc as ipc\n",
    "import olca_schema as lca\n",
    "import olca_schema.results as res\n",
    "import pandas as pd"
   ]
  },
  {
   "cell_type": "markdown",
   "id": "3978c11e",
   "metadata": {},
   "source": [
    "## Calculation and result state\n",
    "\n",
    "### `/calculate`\n",
    "\n",
    "In order to run a calculation, we first need to create a calculation setup. In\n",
    "this setup, we define the calculation target (a process or product system) and\n",
    "configure options like the LCIA method that should be used, if life cycle costs\n",
    "should be calculated or not, which parameters should be redefined etc. With this\n",
    "setup we can start a calculation:"
   ]
  },
  {
   "cell_type": "code",
   "execution_count": null,
   "id": "a368246d",
   "metadata": {},
   "outputs": [],
   "source": [
    "setup = res.CalculationSetup(\n",
    "    target=lca.Ref(\n",
    "        model_type=\"ProductSystem\", id=\"7c328e9b-d8e3-402b-a1ac-95620d021b99\"\n",
    "    ),\n",
    "    impact_method=lca.Ref(\n",
    "        model_type=\"ImpactMethod\", id=\"787c02f1-d1f2-36d6-8e06-2307cc3ebebc\"\n",
    "    ),\n",
    ")\n",
    "client = ipc.Client(8080)\n",
    "result = client.calculate(setup)"
   ]
  },
  {
   "cell_type": "markdown",
   "id": "5a0fd107",
   "metadata": {},
   "source": [
    "### `/state`\n",
    "\n",
    "Starting the calculation directly returns a result object but this result may\n",
    "isn't ready yet. This is because when we start a calculation, it is first put in\n",
    "a calculation queue and there may are other calculations that are still running\n",
    "until our calculation is scheduled and then, we may have to wait a bit depending\n",
    "how big the system is we calculate. We can inspect the result state and could\n",
    "actively wait unit the `is_ready` attribute is `True`. The result can also be an\n",
    "error so we should also check this:"
   ]
  },
  {
   "cell_type": "code",
   "execution_count": null,
   "id": "e9704234",
   "metadata": {},
   "outputs": [],
   "source": [
    "result.get_state()"
   ]
  },
  {
   "cell_type": "markdown",
   "id": "1b927b02",
   "metadata": {},
   "source": [
    "We can also just use the convenience method `wait_until_ready`:"
   ]
  },
  {
   "cell_type": "code",
   "execution_count": null,
   "id": "8b0b395d",
   "metadata": {},
   "outputs": [],
   "source": [
    "result.wait_until_ready()"
   ]
  },
  {
   "cell_type": "markdown",
   "id": "6d4a5afd",
   "metadata": {},
   "source": [
    "### `/dispose`\n",
    "We will call the method `dispose` at the end of this notebook but mention it\n",
    "already here: a calculated result can allocate quite some resources in the\n",
    "openLCA backend depending on the calculated system. If we do not need the result\n",
    "anymore, we should dispose the result to free these resources especially, if we\n",
    "want to run multiple calculations."
   ]
  },
  {
   "cell_type": "code",
   "execution_count": null,
   "id": "19324ddc",
   "metadata": {},
   "outputs": [],
   "source": [
    "# we do this later\n",
    "# result.dispose()"
   ]
  },
  {
   "cell_type": "code",
   "execution_count": null,
   "id": "d5973ee9",
   "metadata": {},
   "outputs": [],
   "source": [
    "tech_flows = result.get_tech_flows()\n",
    "pd.DataFrame(\n",
    "  [(tf.provider.name, tf.flow.name) for tf in tech_flows],\n",
    "  columns=[\"Provider\", \"Flow\"]\n",
    ").head()"
   ]
  },
  {
   "cell_type": "code",
   "execution_count": null,
   "id": "bb383371",
   "metadata": {},
   "outputs": [],
   "source": [
    "envi_flows = result.get_envi_flows()\n",
    "pd.DataFrame(\n",
    "  [(ef.is_input, ef.flow.name, ef.flow.category) for ef in envi_flows],\n",
    "  columns=[\"Is input?\", \"Flow\", \"Category\"]\n",
    ").head()"
   ]
  },
  {
   "cell_type": "code",
   "execution_count": null,
   "id": "7d446646",
   "metadata": {},
   "outputs": [],
   "source": [
    "impact_categories = result.get_impact_categories()\n",
    "pd.DataFrame(\n",
    "    [i.name for i in impact_categories],\n",
    "    columns=[\"Impact category\"]\n",
    ")"
   ]
  },
  {
   "cell_type": "markdown",
   "id": "92275b6e",
   "metadata": {},
   "source": [
    "## Technosphere flows"
   ]
  },
  {
   "cell_type": "markdown",
   "id": "3421c9ee",
   "metadata": {},
   "source": [
    "### `/total-requirements`\n",
    "\n",
    "This method returns the total requirements $t$ of technosphere flows to\n",
    "fulfill the demand of a product system. The amounts are given in the respective\n",
    "reference units of the technosphere flows. $t$ can be calculated by scaling the\n",
    "diagonal of the technosphere matrix $A$ with the scaling vector $s$:\n",
    "\n",
    "$$\n",
    "t = diag(s) * diag(A)\n",
    "$$"
   ]
  },
  {
   "cell_type": "code",
   "execution_count": null,
   "id": "73f4a284",
   "metadata": {},
   "outputs": [],
   "source": [
    "t = result.get_total_requirements()\n",
    "pd.DataFrame(\n",
    "  [(v.tech_flow.flow.name, v.amount, v.tech_flow.flow.ref_unit) for v in t],\n",
    "  columns=[\"Tech. flow\", \"Amount\", \"Unit\"]\n",
    ").head()"
   ]
  },
  {
   "cell_type": "code",
   "execution_count": null,
   "id": "57a2c3a0",
   "metadata": {},
   "outputs": [],
   "source": []
  }
 ],
 "metadata": {
  "kernelspec": {
   "display_name": "ipc-venv2",
   "language": "python",
   "name": "ipc-venv2"
  },
  "language_info": {
   "codemirror_mode": {
    "name": "ipython",
    "version": 3
   },
   "file_extension": ".py",
   "mimetype": "text/x-python",
   "name": "python",
   "nbconvert_exporter": "python",
   "pygments_lexer": "ipython3",
   "version": "3.11.0"
  }
 },
 "nbformat": 4,
 "nbformat_minor": 5
}
