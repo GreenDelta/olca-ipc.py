{
 "cells": [
  {
   "cell_type": "markdown",
   "id": "0fec011c",
   "metadata": {},
   "source": [
    "# The openLCA Result API\n",
    "\n",
    "openLCA 2 provides a harmonized result interface that can be called from\n",
    "different APIs (Java, JSON-RPC, gRPC, Rest). All these APIs call the same\n",
    "backend which is implemented in the openLCA kernel. This kernel is independent\n",
    "from the openLCA user interface and can be integrated as a service into other\n",
    "applications.\n",
    "\n",
    "The idea of the result interface is not to provide some ready-to-use charts and\n",
    "tables but to provide all possible building blocks with which such higher level\n",
    "result views can be created (charts, tables, upstream trees, Sankey diagrams).\n",
    "Thus, the result interface has many methods that often look quite similar. This\n",
    "document tries to explain what these methods do with examples using the [openLCA\n",
    "Python IPC API v2](https://github.com/GreenDelta/olca-ipc.py). The calculation\n",
    "is explained using matrix algebra but this does mean that the implementation\n",
    "uses exactly these formulas when calculating the results.\n",
    "\n",
    "In order to run the examples in this document, you need to have the olca-ipc.py\n",
    "module installed and an IPC server in openLCA runnig (`Tools > Developer tools >\n",
    "IPC Server`). First, make sure that the `olca-ipc` and `olca-schema` modules are\n",
    "installed. We also use `pandas` and `matplotlib` for visualisations:"
   ]
  },
  {
   "cell_type": "code",
   "execution_count": null,
   "id": "d4f2cfb3",
   "metadata": {
    "scrolled": true
   },
   "outputs": [],
   "source": [
    "!pip list | grep 'olca\\|pandas'"
   ]
  },
  {
   "cell_type": "markdown",
   "id": "d74f52b7",
   "metadata": {},
   "source": [
    "Now, we import the required modules:"
   ]
  },
  {
   "cell_type": "code",
   "execution_count": null,
   "id": "01eb2b87",
   "metadata": {},
   "outputs": [],
   "source": [
    "import olca_ipc as ipc\n",
    "import olca_schema as lca\n",
    "import olca_schema.results as res\n",
    "import pandas as pd"
   ]
  },
  {
   "cell_type": "code",
   "execution_count": null,
   "id": "a368246d",
   "metadata": {},
   "outputs": [],
   "source": [
    "setup = res.CalculationSetup(\n",
    "    target=lca.Ref(\n",
    "        model_type=\"ProductSystem\", id=\"7c328e9b-d8e3-402b-a1ac-95620d021b99\"\n",
    "    ),\n",
    "    impact_method=lca.Ref(\n",
    "        model_type=\"ImpactMethod\", id=\"787c02f1-d1f2-36d6-8e06-2307cc3ebebc\"\n",
    "    ),\n",
    ")\n",
    "client = ipc.Client(8080)\n",
    "result = client.calculate(setup)"
   ]
  },
  {
   "cell_type": "code",
   "execution_count": null,
   "id": "8b0b395d",
   "metadata": {},
   "outputs": [],
   "source": [
    "result.wait_until_ready()"
   ]
  },
  {
   "cell_type": "code",
   "execution_count": null,
   "id": "d5973ee9",
   "metadata": {},
   "outputs": [],
   "source": [
    "tech_flows = result.get_tech_flows()\n",
    "pd.DataFrame(\n",
    "  [(tf.provider.name, tf.flow.name) for tf in tech_flows],\n",
    "  columns=[\"Provider\", \"Flow\"]\n",
    ").head()"
   ]
  },
  {
   "cell_type": "code",
   "execution_count": null,
   "id": "bb383371",
   "metadata": {},
   "outputs": [],
   "source": [
    "envi_flows = result.get_envi_flows()\n",
    "pd.DataFrame(\n",
    "  [(ef.is_input, ef.flow.name, ef.flow.category) for ef in envi_flows],\n",
    "  columns=[\"Is input?\", \"Flow\", \"Category\"]\n",
    ").head()"
   ]
  },
  {
   "cell_type": "code",
   "execution_count": null,
   "id": "7d446646",
   "metadata": {},
   "outputs": [],
   "source": [
    "impact_categories = result.get_impact_categories()\n",
    "pd.DataFrame(\n",
    "    [i.name for i in impact_categories],\n",
    "    columns=[\"Impact category\"]\n",
    ")"
   ]
  },
  {
   "cell_type": "markdown",
   "id": "92275b6e",
   "metadata": {},
   "source": [
    "## Technosphere flows"
   ]
  },
  {
   "cell_type": "markdown",
   "id": "3421c9ee",
   "metadata": {},
   "source": [
    "### `/total-requirements`\n",
    "\n",
    "$$\n",
    "t = diag(A) * diagm(s)\n",
    "$$"
   ]
  },
  {
   "cell_type": "code",
   "execution_count": null,
   "id": "73f4a284",
   "metadata": {},
   "outputs": [],
   "source": [
    "t = result.get_total_requirements()\n",
    "pd.DataFrame(\n",
    "  [(v.tech_flow.flow.name, v.amount, v.tech_flow.flow.ref_unit) for v in t],\n",
    "  columns=[\"Tech. flow\", \"Amount\", \"Unit\"]\n",
    ").head()"
   ]
  },
  {
   "cell_type": "code",
   "execution_count": null,
   "id": "57a2c3a0",
   "metadata": {},
   "outputs": [],
   "source": []
  }
 ],
 "metadata": {
  "kernelspec": {
   "display_name": "ipc-venv2",
   "language": "python",
   "name": "ipc-venv2"
  },
  "language_info": {
   "codemirror_mode": {
    "name": "ipython",
    "version": 3
   },
   "file_extension": ".py",
   "mimetype": "text/x-python",
   "name": "python",
   "nbconvert_exporter": "python",
   "pygments_lexer": "ipython3",
   "version": "3.11.0"
  }
 },
 "nbformat": 4,
 "nbformat_minor": 5
}
